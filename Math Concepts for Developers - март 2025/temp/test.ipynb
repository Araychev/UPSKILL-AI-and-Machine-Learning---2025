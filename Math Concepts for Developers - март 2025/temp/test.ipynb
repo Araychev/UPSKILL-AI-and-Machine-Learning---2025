{
 "cells": [
  {
   "cell_type": "code",
   "execution_count": 20,
   "id": "1361dbef",
   "metadata": {},
   "outputs": [],
   "source": [
    "import pyproj\n",
    "from pyproj import Transformer, CRS"
   ]
  },
  {
   "cell_type": "code",
   "execution_count": 15,
   "id": "9545e365",
   "metadata": {},
   "outputs": [],
   "source": [
    "transformer = Transformer.from_crs(\"EPSG:4326\", \"EPSG:4978\")  # WGS84 → ECEF\n",
    "X, Y, Z = transformer.transform(42.6977, 23.3219, 550)"
   ]
  },
  {
   "cell_type": "code",
   "execution_count": 18,
   "id": "e74da392",
   "metadata": {},
   "outputs": [
    {
     "name": "stdout",
     "output_type": "stream",
     "text": [
      "Координати X: 4311575.420 m, Y: 1858811.720 m, Z: 4303253.781 m\n"
     ]
    }
   ],
   "source": [
    "X_pyproj, Y_pyproj, Z_pyproj = transformer.transform(42.6977, 23.3219, 550)\n",
    "\n",
    "print(f\"Координати X: {abs(X_pyproj):.3f} m, Y: {abs(Y_pyproj):.3f} m, Z: {abs(Z_pyproj):.3f} m\")"
   ]
  },
  {
   "cell_type": "code",
   "execution_count": 22,
   "id": "d9eb347f",
   "metadata": {},
   "outputs": [
    {
     "name": "stdout",
     "output_type": "stream",
     "text": [
      "Име: WGS 84\n",
      "Тип: Geographic 2D CRS\n",
      "Единици: [Axis(name=Geodetic latitude, abbrev=Lat, direction=north, unit_auth_code=EPSG, unit_code=9122, unit_name=degree), Axis(name=Geodetic longitude, abbrev=Lon, direction=east, unit_auth_code=EPSG, unit_code=9122, unit_name=degree)]\n",
      "Област: - name: World.\n",
      "- bounds: (-180.0, -90.0, 180.0, 90.0)\n",
      "Датум: World Geodetic System 1984 ensemble\n"
     ]
    }
   ],
   "source": [
    "\n",
    "\n",
    "# Създаване на CRS по различни начини\n",
    "crs1 = CRS.from_epsg(4326)        # WGS84 geographic\n",
    "crs2 = CRS.from_epsg(32635)       # UTM zone 35N\n",
    "crs3 = CRS.from_string(\"EPSG:4326\")\n",
    "crs4 = CRS.from_proj4(\"+proj=longlat +datum=WGS84\")\n",
    "# crs5 = CRS.from_wkt(\"GEOGCS[...]\")  # Well-Known Text - INVALID, so commented out\n",
    "\n",
    "# Информация за CRS\n",
    "print(f\"Име: {crs1.name}\")\n",
    "print(f\"Тип: {crs1.type_name}\")\n",
    "print(f\"Единици: {crs1.axis_info}\")\n",
    "print(f\"Област: {crs1.area_of_use}\")\n",
    "print(f\"Датум: {crs1.datum}\")"
   ]
  },
  {
   "cell_type": "code",
   "execution_count": 23,
   "id": "fa6544fd",
   "metadata": {},
   "outputs": [
    {
     "name": "stdout",
     "output_type": "stream",
     "text": [
      "ECEF: X=4311575.4, Y=1858811.7, Z=4303253.8\n"
     ]
    }
   ],
   "source": [
    "# 3D трансформация (включва височина)\n",
    "# WGS84 (географски) → ECEF (картезиански)\n",
    "geo_to_ecef = Transformer.from_crs(\"EPSG:4326\", \"EPSG:4978\", always_xy=True)\n",
    "\n",
    "lon, lat, h = 23.3219, 42.6977, 550  # София, 550м н.в.\n",
    "X, Y, Z = geo_to_ecef.transform(lon, lat, h)\n",
    "print(f\"ECEF: X={X:.1f}, Y={Y:.1f}, Z={Z:.1f}\")"
   ]
  },
  {
   "cell_type": "code",
   "execution_count": 24,
   "id": "793b0481",
   "metadata": {},
   "outputs": [
    {
     "name": "stdout",
     "output_type": "stream",
     "text": [
      "Разстояние София-Пловдив: 133.4 км\n",
      "Азимут София→Пловдив: 117.4°\n",
      "Азимут Пловдив→София: -61.6°\n",
      "Изчислени координати: 24.753600, 42.135400\n",
      "Оригинални:           24.753600, 42.135400\n"
     ]
    }
   ],
   "source": [
    "from pyproj import Geod\n",
    "\n",
    "# Създаване на геодезически обект\n",
    "geod = Geod(ellps='WGS84')\n",
    "\n",
    "# Разстояние и азимут между две точки\n",
    "lon1, lat1 = 23.3219, 42.6977  # София\n",
    "lon2, lat2 = 24.7536, 42.1354  # Пловдив\n",
    "\n",
    "# Пряка задача - разстояние и азимути\n",
    "azimuth12, azimuth21, distance = geod.inv(lon1, lat1, lon2, lat2)\n",
    "print(f\"Разстояние София-Пловдив: {distance/1000:.1f} км\")\n",
    "print(f\"Азимут София→Пловдив: {azimuth12:.1f}°\")\n",
    "print(f\"Азимут Пловдив→София: {azimuth21:.1f}°\")\n",
    "\n",
    "# Обратна задача - координати по азимут и разстояние\n",
    "lon3, lat3, back_azimuth = geod.fwd(lon1, lat1, azimuth12, distance)\n",
    "print(f\"Изчислени координати: {lon3:.6f}, {lat3:.6f}\")\n",
    "print(f\"Оригинални:           {lon2:.6f}, {lat2:.6f}\")"
   ]
  },
  {
   "cell_type": "code",
   "execution_count": 25,
   "id": "78426a52",
   "metadata": {},
   "outputs": [
    {
     "name": "stdout",
     "output_type": "stream",
     "text": [
      "Площ: 10903.9 кв.км\n",
      "Периметър: 704.1 км\n"
     ]
    }
   ],
   "source": [
    "# Площ на полигон (геодезическа)\n",
    "# Координати на триъгълник София-Пловдив-Бургас\n",
    "lons = [23.3219, 24.7536, 27.4626, 23.3219]  # затворен полигон\n",
    "lats = [42.6977, 42.1354, 42.6960, 42.6977]\n",
    "\n",
    "area, perimeter = geod.polygon_area_perimeter(lons, lats)\n",
    "print(f\"Площ: {abs(area)/1e6:.1f} кв.км\")\n",
    "print(f\"Периметър: {perimeter/1000:.1f} км\")"
   ]
  },
  {
   "cell_type": "code",
   "execution_count": 26,
   "id": "65755d9d",
   "metadata": {},
   "outputs": [
    {
     "name": "stdout",
     "output_type": "stream",
     "text": [
      "Трансформирани 100000 точки\n"
     ]
    }
   ],
   "source": [
    "def transform_large_dataset(lons, lats, from_crs, to_crs, chunk_size=10000):\n",
    "    \"\"\"Трансформира големи масиви данни на части\"\"\"\n",
    "    transformer = Transformer.from_crs(from_crs, to_crs, always_xy=True)\n",
    "    \n",
    "    n_points = len(lons)\n",
    "    xs = np.zeros(n_points)\n",
    "    ys = np.zeros(n_points)\n",
    "    \n",
    "    for i in range(0, n_points, chunk_size):\n",
    "        end = min(i + chunk_size, n_points)\n",
    "        xs[i:end], ys[i:end] = transformer.transform(\n",
    "            lons[i:end], lats[i:end]\n",
    "        )\n",
    "    \n",
    "    return xs, ys\n",
    "\n",
    "# Пример с 100,000 точки\n",
    "n = 100000\n",
    "random_lons = np.random.uniform(22, 29, n)  # България\n",
    "random_lats = np.random.uniform(41, 45, n)\n",
    "\n",
    "xs, ys = transform_large_dataset(random_lons, random_lats, \"EPSG:4326\", \"EPSG:32635\")\n",
    "print(f\"Трансформирани {len(xs)} точки\")"
   ]
  }
 ],
 "metadata": {
  "kernelspec": {
   "display_name": "base",
   "language": "python",
   "name": "python3"
  },
  "language_info": {
   "codemirror_mode": {
    "name": "ipython",
    "version": 3
   },
   "file_extension": ".py",
   "mimetype": "text/x-python",
   "name": "python",
   "nbconvert_exporter": "python",
   "pygments_lexer": "ipython3",
   "version": "3.12.7"
  }
 },
 "nbformat": 4,
 "nbformat_minor": 5
}
