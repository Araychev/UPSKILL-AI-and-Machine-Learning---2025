{
 "cells": [
  {
   "cell_type": "code",
   "execution_count": 8,
   "id": "0fbcb297",
   "metadata": {},
   "outputs": [
    {
     "ename": "SyntaxError",
     "evalue": "(unicode error) 'unicodeescape' codec can't decode bytes in position 44-45: truncated \\UXXXXXXXX escape (353929872.py, line 5)",
     "output_type": "error",
     "traceback": [
      "  \u001b[36mCell\u001b[39m\u001b[36m \u001b[39m\u001b[32mIn[8]\u001b[39m\u001b[32m, line 5\u001b[39m\n\u001b[31m    \u001b[39m\u001b[31mprint(\"Files in D:\\Temp\\site\\AI and Mashinelearning\\UPSKILL-AI-and-Machine-Learning---2025\\Data Science - юни 2025\\Data Science Project Architecture\\datadata/raw/:\")\u001b[39m\n                                                                                                                                                                        ^\n\u001b[31mSyntaxError\u001b[39m\u001b[31m:\u001b[39m (unicode error) 'unicodeescape' codec can't decode bytes in position 44-45: truncated \\UXXXXXXXX escape\n"
     ]
    }
   ],
   "source": [
    "\n",
    "import pandas as pd\n",
    "import os\n",
    "\n",
    "# Check what files we have\n",
    "print(\"Files in D:\\Temp\\site\\AI and Mashinelearning\\UPSKILL-AI-and-Machine-Learning---2025\\Data Science - юни 2025\\Data Science Project Architecture\\datadata/raw/:\")\n",
    "for file in os.listdir('data/raw/'):\n",
    "    print(f\"- {file}\")"
   ]
  }
 ],
 "metadata": {
  "kernelspec": {
   "display_name": "Python 3",
   "language": "python",
   "name": "python3"
  },
  "language_info": {
   "codemirror_mode": {
    "name": "ipython",
    "version": 3
   },
   "file_extension": ".py",
   "mimetype": "text/x-python",
   "name": "python",
   "nbconvert_exporter": "python",
   "pygments_lexer": "ipython3",
   "version": "3.11.2"
  }
 },
 "nbformat": 4,
 "nbformat_minor": 5
}
