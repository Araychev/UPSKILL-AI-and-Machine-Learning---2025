{
 "cells": [
  {
   "cell_type": "code",
   "execution_count": 3,
   "id": "fd75d02e",
   "metadata": {},
   "outputs": [],
   "source": [
    "# Comprehensive EDA - Asthma Disease Dataset\n",
    "# File: notebooks/exploratory/01_comprehensive_eda.ipynb\n",
    "\n",
    "# =============================================================================\n",
    "# IMPORTS AND SETUP\n",
    "# =============================================================================\n",
    "\n",
    "\n",
    "import pandas as pd\n",
    "import numpy as np\n",
    "import matplotlib.pyplot as plt\n",
    "import seaborn as sns\n",
    "import plotly.express as px\n",
    "import plotly.graph_objects as go\n",
    "from plotly.subplots import make_subplots\n",
    "import warnings\n",
    "warnings.filterwarnings('ignore')\n",
    "\n",
    "# Configure plotting\n",
    "plt.style.use('seaborn-v0_8')\n",
    "sns.set_palette(\"husl\")\n",
    "pd.set_option('display.max_columns', None)\n",
    "pd.set_option('display.width', 1000)\n",
    "\n",
    "# Set figure size defaults\n",
    "plt.rcParams['figure.figsize'] = (12, 6)\n"
   ]
  },
  {
   "cell_type": "code",
   "execution_count": 4,
   "id": "2911c382",
   "metadata": {},
   "outputs": [
    {
     "name": "stdout",
     "output_type": "stream",
     "text": [
      "📊 ASTHMA DISEASE DATA - EXPLORATORY DATA ANALYSIS\n",
      "============================================================\n",
      "✅ Data loaded successfully!\n",
      "📋 Dataset shape: (2392, 29)\n",
      "💾 Memory usage: 0.66 MB\n"
     ]
    }
   ],
   "source": [
    "print(\"📊 ASTHMA DISEASE DATA - EXPLORATORY DATA ANALYSIS\")\n",
    "print(\"=\" * 60)\n",
    "\n",
    "# =============================================================================\n",
    "# 1. DATA LOADING AND INITIAL VALIDATION\n",
    "# =============================================================================\n",
    "\n",
    "# Load data\n",
    "df = pd.read_csv('../../data/raw/asthma_disease_data.csv')\n",
    "\n",
    "print(f\"✅ Data loaded successfully!\")\n",
    "print(f\"📋 Dataset shape: {df.shape}\")\n",
    "print(f\"💾 Memory usage: {df.memory_usage(deep=True).sum() / (1024**2):.2f} MB\")\n",
    "\n",
    "# Create a copy for analysis (preserve original)\n",
    "df_analysis = df.copy()\n"
   ]
  }
 ],
 "metadata": {
  "kernelspec": {
   "display_name": "Python 3",
   "language": "python",
   "name": "python3"
  },
  "language_info": {
   "codemirror_mode": {
    "name": "ipython",
    "version": 3
   },
   "file_extension": ".py",
   "mimetype": "text/x-python",
   "name": "python",
   "nbconvert_exporter": "python",
   "pygments_lexer": "ipython3",
   "version": "3.11.2"
  }
 },
 "nbformat": 4,
 "nbformat_minor": 5
}
